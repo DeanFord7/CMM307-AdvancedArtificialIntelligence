{
  "nbformat": 4,
  "nbformat_minor": 0,
  "metadata": {
    "colab": {
      "provenance": [],
      "authorship_tag": "ABX9TyOZzEpJVvvAt+ZUd4QWfl6z",
      "include_colab_link": true
    },
    "kernelspec": {
      "name": "python3",
      "display_name": "Python 3"
    },
    "language_info": {
      "name": "python"
    }
  },
  "cells": [
    {
      "cell_type": "markdown",
      "metadata": {
        "id": "view-in-github",
        "colab_type": "text"
      },
      "source": [
        "<a href=\"https://colab.research.google.com/github/DeanFord7/CMM307-AdvancedArtificialIntelligence/blob/main/DeanFord1702994-CMM307Coursework.ipynb\" target=\"_parent\"><img src=\"https://colab.research.google.com/assets/colab-badge.svg\" alt=\"Open In Colab\"/></a>"
      ]
    },
    {
      "cell_type": "markdown",
      "source": [
        "# Section 1 - Dataset"
      ],
      "metadata": {
        "id": "0E4Ts2HCAxkW"
      }
    },
    {
      "cell_type": "markdown",
      "source": [
        "The Twitter Sentiment Analysis (TSA) dataset contains over 70,000 records of tweets related to specific entities, whether that be a company, a game etc. Each record has four columns, an ID for the tweet, the entity the tweet is referencing, the text conatained within the tweet and the sentiment.\n",
        "\n",
        "The aim of the task is to use the text of each tweet to predict and assign a sentiment classification of one of the following to the tweet:\n",
        "<ul>\n",
        "<li>Positive</li>\n",
        "<li>Negative</li>\n",
        "<li>Neutral</li>\n",
        "<li>Irrelevant</li>\n",
        "</ul>\n",
        "\n",
        "In the dataset, 'Neutral' and 'Irrelevant' are seperate labels for the sentiment classification but both are considered to be the same result. Because of this, the 'Irrelevant' label can be removed and all records with that classification can be updated to have a label of 'Neutral' instead.\n",
        "\n",
        "Analysing the sentiment of a given text is one of the most common uses of text classification algorithms, whether it be for binary or multi-class as this dataset is, leaving text classifications the most natural choice for the challenge posed by this dataset."
      ],
      "metadata": {
        "id": "MWtAu0LdbBoH"
      }
    },
    {
      "cell_type": "code",
      "execution_count": 11,
      "metadata": {
        "id": "zbP3KXklTKp9",
        "outputId": "69e93729-4d03-4f71-8abd-d4bb0640e995",
        "colab": {
          "base_uri": "https://localhost:8080/"
        }
      },
      "outputs": [
        {
          "output_type": "stream",
          "name": "stdout",
          "text": [
            "Path to dataset files: /root/.cache/kagglehub/datasets/jp797498e/twitter-entity-sentiment-analysis/versions/2\n",
            "Files in directory: ['twitter_validation.csv', 'twitter_training.csv']\n"
          ]
        }
      ],
      "source": [
        "import kagglehub\n",
        "import os\n",
        "\n",
        "# Load dataset from kagglehub\n",
        "path = kagglehub.dataset_download(\"jp797498e/twitter-entity-sentiment-analysis\")\n",
        "\n",
        "print(\"Path to dataset files:\", path)\n",
        "\n",
        "files = os.listdir(path)\n",
        "print(\"Files in directory:\", files)"
      ]
    },
    {
      "cell_type": "code",
      "source": [
        "import pandas as pd\n",
        "\n",
        "# Dataset is already split into a training and testing file so retrieve both\n",
        "training_file_path = os.path.join(path, \"twitter_training.csv\")\n",
        "validation_file_path = os.path.join(path, \"twitter_validation.csv\")\n",
        "\n",
        "# Set column names for dataframe\n",
        "column_names = [\"tweet_id\", \"entity\", \"sentiment\", \"tweet_text\"]\n",
        "\n",
        "# Load datasets into dataframes\n",
        "training_df = pd.read_csv(training_file_path, names=column_names)\n",
        "validation_df = pd.read_csv(validation_file_path, names=column_names)\n",
        "\n",
        "#print(training_df.head())\n",
        "print(\"Train\", len(training_df))\n",
        "print(\"Val\", len(validation_df))\n",
        "#print(validation_df.head())\n",
        "\n",
        "# Combine the dataframes as the pre made validation set has only 1,000 values compared to the testing sets 69,000\n",
        "sentiment_df = pd.concat([training_df, validation_df], ignore_index=True)\n",
        "\n",
        "print(\"Combined Dataframe:\")\n",
        "print(sentiment_df.head())\n",
        "print(\"Records: \", len(sentiment_df))\n",
        "\n",
        "# The dataset contains 6 records for each tweet with the first being the original and the next 5 being slight alterations of the text\n",
        "# Remove the additional records for each tweet as the original text in the most relevant and the duplicates only have minor grammatical changes\n",
        "filtered_sentiment_df = sentiment_df.drop_duplicates(subset=[\"tweet_id\"], keep=\"first\")\n",
        "\n",
        "# Remove NaN values\n",
        "filtered_sentiment_df = filtered_sentiment_df[filtered_sentiment_df['tweet_text'].notnull()]\n",
        "# Remove empty strings\n",
        "filtered_sentiment_df = filtered_sentiment_df[filtered_sentiment_df['tweet_text'].str.strip() != '']\n",
        "\n",
        "# Change sentiment values from 'Irrelevant' to 'Neutral'\n",
        "# 'Irrelevant' and 'Neutral' are treated as the same result in the dataset so convert all to 'Neutral' to avoid confusion in the results\n",
        "filtered_sentiment_df.loc[filtered_sentiment_df['sentiment'] == 'Irrelevant', 'sentiment'] = 'Neutral'\n",
        "\n",
        "print(\"Filtered Dataframe:\")\n",
        "print(filtered_sentiment_df.head())\n",
        "print(\"Records: \", len(filtered_sentiment_df))\n"
      ],
      "metadata": {
        "id": "VunrCDJMJQ94",
        "colab": {
          "base_uri": "https://localhost:8080/"
        },
        "outputId": "5b3ddf88-6143-4279-a237-c699319d0da3"
      },
      "execution_count": 12,
      "outputs": [
        {
          "output_type": "stream",
          "name": "stdout",
          "text": [
            "Train 74682\n",
            "Val 1000\n",
            "Combined Dataframe:\n",
            "   tweet_id       entity sentiment  \\\n",
            "0      2401  Borderlands  Positive   \n",
            "1      2401  Borderlands  Positive   \n",
            "2      2401  Borderlands  Positive   \n",
            "3      2401  Borderlands  Positive   \n",
            "4      2401  Borderlands  Positive   \n",
            "\n",
            "                                          tweet_text  \n",
            "0  im getting on borderlands and i will murder yo...  \n",
            "1  I am coming to the borders and I will kill you...  \n",
            "2  im getting on borderlands and i will kill you ...  \n",
            "3  im coming on borderlands and i will murder you...  \n",
            "4  im getting on borderlands 2 and i will murder ...  \n",
            "Records:  75682\n",
            "Filtered Dataframe:\n",
            "    tweet_id       entity sentiment  \\\n",
            "0       2401  Borderlands  Positive   \n",
            "6       2402  Borderlands  Positive   \n",
            "12      2403  Borderlands   Neutral   \n",
            "18      2404  Borderlands  Positive   \n",
            "24      2405  Borderlands  Negative   \n",
            "\n",
            "                                           tweet_text  \n",
            "0   im getting on borderlands and i will murder yo...  \n",
            "6   So I spent a few hours making something for fu...  \n",
            "12  Rock-Hard La Varlope, RARE & POWERFUL, HANDSOM...  \n",
            "18  that was the first borderlands session in a lo...  \n",
            "24  the biggest dissappoinment in my life came out...  \n",
            "Records:  12275\n"
          ]
        }
      ]
    },
    {
      "cell_type": "code",
      "source": [
        "tweets = list(filtered_sentiment_df['tweet_text'])\n",
        "sentiments = list(filtered_sentiment_df['sentiment'])\n",
        "\n",
        "from sklearn.preprocessing import LabelEncoder\n",
        "\n",
        "label_encoder = LabelEncoder()\n",
        "# Convert the sentiment strings into numerical values\n",
        "sentiments_numerical = label_encoder.fit_transform(sentiments)\n",
        "\n"
      ],
      "metadata": {
        "id": "OpY3srQ7OwPB"
      },
      "execution_count": 13,
      "outputs": []
    },
    {
      "cell_type": "code",
      "source": [
        "import nltk\n",
        "\n",
        "nltk.download('punkt')\n",
        "nltk.download('punkt_tab')\n",
        "nltk.download('stopwords')\n",
        "nltk.download('wordnet')\n",
        "\n",
        "from nltk.tokenize import word_tokenize\n",
        "from nltk.corpus import stopwords\n",
        "from nltk.stem.snowball import SnowballStemmer\n",
        "from nltk.stem import WordNetLemmatizer\n",
        "\n",
        "lemmatizer = WordNetLemmatizer()\n",
        "\n",
        "def prep(sentences):\n",
        "  prep_text = []\n",
        "\n",
        "  words = stopwords.words('english')\n",
        "\n",
        "  for sent in sentences:\n",
        "    token_text = word_tokenize(sent)\n",
        "    normalised_text = [token.lower() for token in token_text if token.isalpha()]\n",
        "\n",
        "    swr_text = [token for token in normalised_text if token not in words]\n",
        "\n",
        "    prep_text += [[lemmatizer.lemmatize(word) for word in swr_text]]\n",
        "  prep_sentences = [\" \".join(sentence) for sentence in prep_text]\n",
        "  return prep_sentences\n",
        "\n"
      ],
      "metadata": {
        "colab": {
          "base_uri": "https://localhost:8080/"
        },
        "id": "SzIpSi0-BM1l",
        "outputId": "750b964d-fc9a-4169-aa6a-9f3f73310fad"
      },
      "execution_count": 14,
      "outputs": [
        {
          "output_type": "stream",
          "name": "stderr",
          "text": [
            "[nltk_data] Downloading package punkt to /root/nltk_data...\n",
            "[nltk_data]   Package punkt is already up-to-date!\n",
            "[nltk_data] Downloading package punkt_tab to /root/nltk_data...\n",
            "[nltk_data]   Package punkt_tab is already up-to-date!\n",
            "[nltk_data] Downloading package stopwords to /root/nltk_data...\n",
            "[nltk_data]   Package stopwords is already up-to-date!\n",
            "[nltk_data] Downloading package wordnet to /root/nltk_data...\n",
            "[nltk_data]   Package wordnet is already up-to-date!\n"
          ]
        }
      ]
    },
    {
      "cell_type": "markdown",
      "source": [
        "# Section 2 - Representation Learning"
      ],
      "metadata": {
        "id": "tXuMzQMnBJsw"
      }
    },
    {
      "cell_type": "markdown",
      "source": [
        "Term Frequency - Inverse Document Frequency (TF-IDF) is a method of quantifying the importance of certain strings from within a block of text. TF-IDF is broken up into two parts, Term Frequency and Inverse Document Frequency.\n",
        "\n",
        "Term Frequency works by taking how often a word appears within the confines of the document it is found it. Inverse Document Frequency on the other hand looks at how common the word is throughout all of the documents. These two values are then multiplied together to give a TF-IDF score to represent the word, with a higher score showing a more important word.\n",
        "\n",
        "Once a document is fed into the TF-IDF, it will be outputted as a vector matrix containing the TF-IDF representations of each word which can then be used in the machine learning algorithm."
      ],
      "metadata": {
        "id": "fBB043Jd8s84"
      }
    },
    {
      "cell_type": "code",
      "source": [
        "from sklearn.feature_extraction.text import TfidfVectorizer\n",
        "# Set the ngram_range to 1, 2 to include both unigrams and bigrams (sets of 1 and 2 words)\n",
        "tfidf_base = TfidfVectorizer(max_features=1000, ngram_range=(1, 2))"
      ],
      "metadata": {
        "id": "uzKGJIhi3Zpu"
      },
      "execution_count": 15,
      "outputs": []
    },
    {
      "cell_type": "markdown",
      "source": [
        "# Section 3 -  Algorithms"
      ],
      "metadata": {
        "id": "4PVKKM8DBMLh"
      }
    },
    {
      "cell_type": "code",
      "source": [
        "import tensorflow\n",
        "import numpy as np\n",
        "\n",
        "from tensorflow.keras.models import Sequential\n",
        "from tensorflow.keras.layers import Dense\n",
        "from tensorflow.keras.utils import to_categorical\n",
        "from tensorflow.keras.callbacks import EarlyStopping\n",
        "from sklearn.model_selection import StratifiedKFold, GridSearchCV\n",
        "from sklearn.metrics import f1_score"
      ],
      "metadata": {
        "id": "ZnRkt3z7xkfT"
      },
      "execution_count": 16,
      "outputs": []
    },
    {
      "cell_type": "code",
      "source": [
        "# Set the number of folds to iterate over\n",
        "kf = StratifiedKFold(n_splits=5, shuffle=True)\n",
        "\n",
        "# Convert the data to numpy arrays\n",
        "xnp = np.array(tweets)\n",
        "ynp = np.array(sentiments_numerical)"
      ],
      "metadata": {
        "id": "oUjm_yvX1R1t"
      },
      "execution_count": 17,
      "outputs": []
    },
    {
      "cell_type": "markdown",
      "source": [
        "## Multi-Layer Perceptron"
      ],
      "metadata": {
        "id": "ZmHCiQdWUa0I"
      }
    },
    {
      "cell_type": "markdown",
      "source": [
        "A Multi_Layer Perceptron (MLP) is a type of Artificial Neural Network which can be used for either classification or regression, made up of different layers of interconnected nodes. The 3 layers typically featured in an MLP are the input layer, the hidden layer(s) and the output layer.\n",
        "\n",
        "\n",
        "The input layer is made up of a set of nodes which matches the size of the input vector with each each node represnting one input feature. The hidden layer is made up of a weighted linear summation and a non-linear activation function which will act on the values passed into it and transform them before passing them on to the next layer. The hidden layer can also be repeated with each layer being capable of using a different activation function. The output layer then recieves the values from the final hidden layer and transforms them into output values."
      ],
      "metadata": {
        "id": "Wclxad9Cexjn"
      }
    },
    {
      "cell_type": "code",
      "source": [
        "# Define the MLP model\n",
        "def mlp(dataset_size, num_classes):\n",
        "  input_shape = (dataset_size,)\n",
        "  model = Sequential()\n",
        "  model.add(Dense(128, input_shape=input_shape, activation='relu'))\n",
        "  model.add(Dense(128, activation='relu'))\n",
        "  model.add(Dense(num_classes, activation='softmax'))\n",
        "  return model\n",
        "\n",
        "mlp_accuracy_score = []\n",
        "mlp_f1_score = []\n",
        "\n",
        "for train, test in kf.split(xnp,ynp):\n",
        "  # Get the train and test splits\n",
        "  x_train, x_test, y_train, y_test = xnp[train], xnp[test], ynp[train], ynp[test]\n",
        "\n",
        "  # Apply pre-processing to the x data\n",
        "  x_train = prep(x_train)\n",
        "  x_test = prep(x_test)\n",
        "\n",
        "  # Apply the tf-idf vectorization\n",
        "  tfidf = tfidf_base\n",
        "  x_train = tfidf.fit_transform(x_train)\n",
        "  x_train = x_train.todense()\n",
        "  x_test = tfidf.transform(x_test)\n",
        "  x_test = x_test.todense()\n",
        "  num_classes = len(np.unique(y_train))\n",
        "\n",
        "  model = mlp(1000, num_classes)\n",
        "  y_train = to_categorical(y_train, num_classes)\n",
        "  y_test = to_categorical(y_test, num_classes)\n",
        "\n",
        "  # Code taken and adapted from https://keras.io/api/callbacks/early_stopping/\n",
        "  # Define early stopping paramters to stop the model if the loss doesn't improve for 5 epochs\n",
        "  early_stopping = EarlyStopping(monitor='val_loss', patience=5, restore_best_weights=True)\n",
        "\n",
        "  model.compile(loss='categorical_crossentropy', optimizer='adam', metrics=['accuracy'])\n",
        "  model.fit(x_train, y_train, epochs=10, batch_size=250, verbose=1, validation_split=0.2, callbacks=[early_stopping])\n",
        "\n",
        "  test_results = model.evaluate(x_test, y_test, verbose=1)\n",
        "  print(f'Test results - Loss: {test_results[0]} - Accuracy: {test_results[1]}%')\n",
        "\n",
        "  mlp_accuracy_score.append(test_results[1])\n",
        "  # Code taken and adapted from https://machinelearningmastery.com/how-to-calculate-precision-recall-f1-and-more-for-deep-learning-models/\n",
        "  mlp_predictions = model.predict(x_test)\n",
        "  mlp_predictions = np.argmax(mlp_predictions, axis=1)\n",
        "  y_test_labels = np.argmax(y_test, axis=1)\n",
        "  mlp_f1 = f1_score(mlp_predictions, y_test_labels, average='weighted')\n",
        "  mlp_f1_score.append(mlp_f1)\n",
        "\n",
        "print(\"MLP Accuracy:\", np.mean(mlp_accuracy_score) * 100, \"%\")\n",
        "print(\"MLP F1 Score:\", np.mean(mlp_f1_score))"
      ],
      "metadata": {
        "colab": {
          "base_uri": "https://localhost:8080/"
        },
        "id": "LpG2jUnek29X",
        "outputId": "b208e4f4-0aa1-4b8a-cfcd-6cb813a0e939"
      },
      "execution_count": 18,
      "outputs": [
        {
          "output_type": "stream",
          "name": "stdout",
          "text": [
            "Epoch 1/10\n"
          ]
        },
        {
          "output_type": "stream",
          "name": "stderr",
          "text": [
            "/usr/local/lib/python3.10/dist-packages/keras/src/layers/core/dense.py:87: UserWarning: Do not pass an `input_shape`/`input_dim` argument to a layer. When using Sequential models, prefer using an `Input(shape)` object as the first layer in the model instead.\n",
            "  super().__init__(activity_regularizer=activity_regularizer, **kwargs)\n"
          ]
        },
        {
          "output_type": "stream",
          "name": "stdout",
          "text": [
            "\u001b[1m32/32\u001b[0m \u001b[32m━━━━━━━━━━━━━━━━━━━━\u001b[0m\u001b[37m\u001b[0m \u001b[1m2s\u001b[0m 14ms/step - accuracy: 0.4143 - loss: 1.0809 - val_accuracy: 0.4104 - val_loss: 1.0494\n",
            "Epoch 2/10\n",
            "\u001b[1m32/32\u001b[0m \u001b[32m━━━━━━━━━━━━━━━━━━━━\u001b[0m\u001b[37m\u001b[0m \u001b[1m0s\u001b[0m 7ms/step - accuracy: 0.5073 - loss: 0.9690 - val_accuracy: 0.5774 - val_loss: 0.9066\n",
            "Epoch 3/10\n",
            "\u001b[1m32/32\u001b[0m \u001b[32m━━━━━━━━━━━━━━━━━━━━\u001b[0m\u001b[37m\u001b[0m \u001b[1m0s\u001b[0m 7ms/step - accuracy: 0.6712 - loss: 0.7662 - val_accuracy: 0.5708 - val_loss: 0.9152\n",
            "Epoch 4/10\n",
            "\u001b[1m32/32\u001b[0m \u001b[32m━━━━━━━━━━━━━━━━━━━━\u001b[0m\u001b[37m\u001b[0m \u001b[1m0s\u001b[0m 9ms/step - accuracy: 0.7062 - loss: 0.6970 - val_accuracy: 0.5662 - val_loss: 0.9385\n",
            "Epoch 5/10\n",
            "\u001b[1m32/32\u001b[0m \u001b[32m━━━━━━━━━━━━━━━━━━━━\u001b[0m\u001b[37m\u001b[0m \u001b[1m0s\u001b[0m 7ms/step - accuracy: 0.7373 - loss: 0.6345 - val_accuracy: 0.5672 - val_loss: 0.9799\n",
            "Epoch 6/10\n",
            "\u001b[1m32/32\u001b[0m \u001b[32m━━━━━━━━━━━━━━━━━━━━\u001b[0m\u001b[37m\u001b[0m \u001b[1m0s\u001b[0m 9ms/step - accuracy: 0.7629 - loss: 0.5861 - val_accuracy: 0.5489 - val_loss: 1.0340\n",
            "Epoch 7/10\n",
            "\u001b[1m32/32\u001b[0m \u001b[32m━━━━━━━━━━━━━━━━━━━━\u001b[0m\u001b[37m\u001b[0m \u001b[1m0s\u001b[0m 10ms/step - accuracy: 0.7860 - loss: 0.5481 - val_accuracy: 0.5504 - val_loss: 1.1044\n",
            "\u001b[1m77/77\u001b[0m \u001b[32m━━━━━━━━━━━━━━━━━━━━\u001b[0m\u001b[37m\u001b[0m \u001b[1m0s\u001b[0m 2ms/step - accuracy: 0.5834 - loss: 0.8621\n",
            "Test results - Loss: 0.8769304752349854 - Accuracy: 0.589409351348877%\n",
            "\u001b[1m77/77\u001b[0m \u001b[32m━━━━━━━━━━━━━━━━━━━━\u001b[0m\u001b[37m\u001b[0m \u001b[1m0s\u001b[0m 2ms/step\n",
            "Epoch 1/10\n"
          ]
        },
        {
          "output_type": "stream",
          "name": "stderr",
          "text": [
            "/usr/local/lib/python3.10/dist-packages/keras/src/layers/core/dense.py:87: UserWarning: Do not pass an `input_shape`/`input_dim` argument to a layer. When using Sequential models, prefer using an `Input(shape)` object as the first layer in the model instead.\n",
            "  super().__init__(activity_regularizer=activity_regularizer, **kwargs)\n"
          ]
        },
        {
          "output_type": "stream",
          "name": "stdout",
          "text": [
            "\u001b[1m32/32\u001b[0m \u001b[32m━━━━━━━━━━━━━━━━━━━━\u001b[0m\u001b[37m\u001b[0m \u001b[1m1s\u001b[0m 14ms/step - accuracy: 0.3951 - loss: 1.0812 - val_accuracy: 0.3910 - val_loss: 1.0530\n",
            "Epoch 2/10\n",
            "\u001b[1m32/32\u001b[0m \u001b[32m━━━━━━━━━━━━━━━━━━━━\u001b[0m\u001b[37m\u001b[0m \u001b[1m0s\u001b[0m 9ms/step - accuracy: 0.4783 - loss: 0.9775 - val_accuracy: 0.5723 - val_loss: 0.9004\n",
            "Epoch 3/10\n",
            "\u001b[1m32/32\u001b[0m \u001b[32m━━━━━━━━━━━━━━━━━━━━\u001b[0m\u001b[37m\u001b[0m \u001b[1m1s\u001b[0m 12ms/step - accuracy: 0.6558 - loss: 0.7835 - val_accuracy: 0.5754 - val_loss: 0.9051\n",
            "Epoch 4/10\n",
            "\u001b[1m32/32\u001b[0m \u001b[32m━━━━━━━━━━━━━━━━━━━━\u001b[0m\u001b[37m\u001b[0m \u001b[1m1s\u001b[0m 13ms/step - accuracy: 0.7079 - loss: 0.6841 - val_accuracy: 0.5652 - val_loss: 0.9258\n",
            "Epoch 5/10\n",
            "\u001b[1m32/32\u001b[0m \u001b[32m━━━━━━━━━━━━━━━━━━━━\u001b[0m\u001b[37m\u001b[0m \u001b[1m0s\u001b[0m 12ms/step - accuracy: 0.7284 - loss: 0.6379 - val_accuracy: 0.5560 - val_loss: 1.0007\n",
            "Epoch 6/10\n",
            "\u001b[1m32/32\u001b[0m \u001b[32m━━━━━━━━━━━━━━━━━━━━\u001b[0m\u001b[37m\u001b[0m \u001b[1m1s\u001b[0m 14ms/step - accuracy: 0.7695 - loss: 0.5796 - val_accuracy: 0.5407 - val_loss: 1.0861\n",
            "Epoch 7/10\n",
            "\u001b[1m32/32\u001b[0m \u001b[32m━━━━━━━━━━━━━━━━━━━━\u001b[0m\u001b[37m\u001b[0m \u001b[1m0s\u001b[0m 14ms/step - accuracy: 0.7946 - loss: 0.5372 - val_accuracy: 0.5484 - val_loss: 1.1423\n",
            "\u001b[1m77/77\u001b[0m \u001b[32m━━━━━━━━━━━━━━━━━━━━\u001b[0m\u001b[37m\u001b[0m \u001b[1m0s\u001b[0m 2ms/step - accuracy: 0.6153 - loss: 0.8700\n",
            "Test results - Loss: 0.8762648701667786 - Accuracy: 0.6061099767684937%\n",
            "\u001b[1m77/77\u001b[0m \u001b[32m━━━━━━━━━━━━━━━━━━━━\u001b[0m\u001b[37m\u001b[0m \u001b[1m0s\u001b[0m 2ms/step\n",
            "Epoch 1/10\n"
          ]
        },
        {
          "output_type": "stream",
          "name": "stderr",
          "text": [
            "/usr/local/lib/python3.10/dist-packages/keras/src/layers/core/dense.py:87: UserWarning: Do not pass an `input_shape`/`input_dim` argument to a layer. When using Sequential models, prefer using an `Input(shape)` object as the first layer in the model instead.\n",
            "  super().__init__(activity_regularizer=activity_regularizer, **kwargs)\n"
          ]
        },
        {
          "output_type": "stream",
          "name": "stdout",
          "text": [
            "\u001b[1m32/32\u001b[0m \u001b[32m━━━━━━━━━━━━━━━━━━━━\u001b[0m\u001b[37m\u001b[0m \u001b[1m1s\u001b[0m 12ms/step - accuracy: 0.3925 - loss: 1.0852 - val_accuracy: 0.3977 - val_loss: 1.0538\n",
            "Epoch 2/10\n",
            "\u001b[1m32/32\u001b[0m \u001b[32m━━━━━━━━━━━━━━━━━━━━\u001b[0m\u001b[37m\u001b[0m \u001b[1m1s\u001b[0m 9ms/step - accuracy: 0.4771 - loss: 0.9797 - val_accuracy: 0.5703 - val_loss: 0.9073\n",
            "Epoch 3/10\n",
            "\u001b[1m32/32\u001b[0m \u001b[32m━━━━━━━━━━━━━━━━━━━━\u001b[0m\u001b[37m\u001b[0m \u001b[1m0s\u001b[0m 8ms/step - accuracy: 0.6505 - loss: 0.7829 - val_accuracy: 0.5820 - val_loss: 0.8949\n",
            "Epoch 4/10\n",
            "\u001b[1m32/32\u001b[0m \u001b[32m━━━━━━━━━━━━━━━━━━━━\u001b[0m\u001b[37m\u001b[0m \u001b[1m0s\u001b[0m 7ms/step - accuracy: 0.7087 - loss: 0.6899 - val_accuracy: 0.5698 - val_loss: 0.9419\n",
            "Epoch 5/10\n",
            "\u001b[1m32/32\u001b[0m \u001b[32m━━━━━━━━━━━━━━━━━━━━\u001b[0m\u001b[37m\u001b[0m \u001b[1m0s\u001b[0m 8ms/step - accuracy: 0.7274 - loss: 0.6464 - val_accuracy: 0.5611 - val_loss: 0.9750\n",
            "Epoch 6/10\n",
            "\u001b[1m32/32\u001b[0m \u001b[32m━━━━━━━━━━━━━━━━━━━━\u001b[0m\u001b[37m\u001b[0m \u001b[1m0s\u001b[0m 8ms/step - accuracy: 0.7609 - loss: 0.5817 - val_accuracy: 0.5499 - val_loss: 1.0433\n",
            "Epoch 7/10\n",
            "\u001b[1m32/32\u001b[0m \u001b[32m━━━━━━━━━━━━━━━━━━━━\u001b[0m\u001b[37m\u001b[0m \u001b[1m0s\u001b[0m 7ms/step - accuracy: 0.7836 - loss: 0.5497 - val_accuracy: 0.5489 - val_loss: 1.0870\n",
            "Epoch 8/10\n",
            "\u001b[1m32/32\u001b[0m \u001b[32m━━━━━━━━━━━━━━━━━━━━\u001b[0m\u001b[37m\u001b[0m \u001b[1m0s\u001b[0m 8ms/step - accuracy: 0.8174 - loss: 0.4882 - val_accuracy: 0.5463 - val_loss: 1.1617\n",
            "\u001b[1m77/77\u001b[0m \u001b[32m━━━━━━━━━━━━━━━━━━━━\u001b[0m\u001b[37m\u001b[0m \u001b[1m0s\u001b[0m 2ms/step - accuracy: 0.6122 - loss: 0.8457\n",
            "Test results - Loss: 0.8529689908027649 - Accuracy: 0.6105906367301941%\n",
            "\u001b[1m77/77\u001b[0m \u001b[32m━━━━━━━━━━━━━━━━━━━━\u001b[0m\u001b[37m\u001b[0m \u001b[1m0s\u001b[0m 2ms/step\n",
            "Epoch 1/10\n"
          ]
        },
        {
          "output_type": "stream",
          "name": "stderr",
          "text": [
            "/usr/local/lib/python3.10/dist-packages/keras/src/layers/core/dense.py:87: UserWarning: Do not pass an `input_shape`/`input_dim` argument to a layer. When using Sequential models, prefer using an `Input(shape)` object as the first layer in the model instead.\n",
            "  super().__init__(activity_regularizer=activity_regularizer, **kwargs)\n"
          ]
        },
        {
          "output_type": "stream",
          "name": "stdout",
          "text": [
            "\u001b[1m32/32\u001b[0m \u001b[32m━━━━━━━━━━━━━━━━━━━━\u001b[0m\u001b[37m\u001b[0m \u001b[1m2s\u001b[0m 13ms/step - accuracy: 0.4139 - loss: 1.0814 - val_accuracy: 0.3951 - val_loss: 1.0598\n",
            "Epoch 2/10\n",
            "\u001b[1m32/32\u001b[0m \u001b[32m━━━━━━━━━━━━━━━━━━━━\u001b[0m\u001b[37m\u001b[0m \u001b[1m0s\u001b[0m 8ms/step - accuracy: 0.5002 - loss: 0.9684 - val_accuracy: 0.5586 - val_loss: 0.9211\n",
            "Epoch 3/10\n",
            "\u001b[1m32/32\u001b[0m \u001b[32m━━━━━━━━━━━━━━━━━━━━\u001b[0m\u001b[37m\u001b[0m \u001b[1m0s\u001b[0m 7ms/step - accuracy: 0.6704 - loss: 0.7606 - val_accuracy: 0.5596 - val_loss: 0.9505\n",
            "Epoch 4/10\n",
            "\u001b[1m32/32\u001b[0m \u001b[32m━━━━━━━━━━━━━━━━━━━━\u001b[0m\u001b[37m\u001b[0m \u001b[1m0s\u001b[0m 8ms/step - accuracy: 0.6984 - loss: 0.6823 - val_accuracy: 0.5443 - val_loss: 1.0191\n",
            "Epoch 5/10\n",
            "\u001b[1m32/32\u001b[0m \u001b[32m━━━━━━━━━━━━━━━━━━━━\u001b[0m\u001b[37m\u001b[0m \u001b[1m0s\u001b[0m 10ms/step - accuracy: 0.7295 - loss: 0.6415 - val_accuracy: 0.5535 - val_loss: 1.0421\n",
            "Epoch 6/10\n",
            "\u001b[1m32/32\u001b[0m \u001b[32m━━━━━━━━━━━━━━━━━━━━\u001b[0m\u001b[37m\u001b[0m \u001b[1m0s\u001b[0m 8ms/step - accuracy: 0.7647 - loss: 0.5736 - val_accuracy: 0.5356 - val_loss: 1.1411\n",
            "Epoch 7/10\n",
            "\u001b[1m32/32\u001b[0m \u001b[32m━━━━━━━━━━━━━━━━━━━━\u001b[0m\u001b[37m\u001b[0m \u001b[1m0s\u001b[0m 9ms/step - accuracy: 0.7829 - loss: 0.5354 - val_accuracy: 0.5367 - val_loss: 1.2195\n",
            "\u001b[1m77/77\u001b[0m \u001b[32m━━━━━━━━━━━━━━━━━━━━\u001b[0m\u001b[37m\u001b[0m \u001b[1m0s\u001b[0m 2ms/step - accuracy: 0.6066 - loss: 0.8752\n",
            "Test results - Loss: 0.873485803604126 - Accuracy: 0.5938900113105774%\n",
            "\u001b[1m77/77\u001b[0m \u001b[32m━━━━━━━━━━━━━━━━━━━━\u001b[0m\u001b[37m\u001b[0m \u001b[1m0s\u001b[0m 2ms/step\n",
            "Epoch 1/10\n"
          ]
        },
        {
          "output_type": "stream",
          "name": "stderr",
          "text": [
            "/usr/local/lib/python3.10/dist-packages/keras/src/layers/core/dense.py:87: UserWarning: Do not pass an `input_shape`/`input_dim` argument to a layer. When using Sequential models, prefer using an `Input(shape)` object as the first layer in the model instead.\n",
            "  super().__init__(activity_regularizer=activity_regularizer, **kwargs)\n"
          ]
        },
        {
          "output_type": "stream",
          "name": "stdout",
          "text": [
            "\u001b[1m32/32\u001b[0m \u001b[32m━━━━━━━━━━━━━━━━━━━━\u001b[0m\u001b[37m\u001b[0m \u001b[1m1s\u001b[0m 13ms/step - accuracy: 0.3976 - loss: 1.0814 - val_accuracy: 0.4007 - val_loss: 1.0536\n",
            "Epoch 2/10\n",
            "\u001b[1m32/32\u001b[0m \u001b[32m━━━━━━━━━━━━━━━━━━━━\u001b[0m\u001b[37m\u001b[0m \u001b[1m0s\u001b[0m 8ms/step - accuracy: 0.4915 - loss: 0.9677 - val_accuracy: 0.5692 - val_loss: 0.9066\n",
            "Epoch 3/10\n",
            "\u001b[1m32/32\u001b[0m \u001b[32m━━━━━━━━━━━━━━━━━━━━\u001b[0m\u001b[37m\u001b[0m \u001b[1m0s\u001b[0m 9ms/step - accuracy: 0.6680 - loss: 0.7624 - val_accuracy: 0.5713 - val_loss: 0.9123\n",
            "Epoch 4/10\n",
            "\u001b[1m32/32\u001b[0m \u001b[32m━━━━━━━━━━━━━━━━━━━━\u001b[0m\u001b[37m\u001b[0m \u001b[1m0s\u001b[0m 8ms/step - accuracy: 0.7136 - loss: 0.6751 - val_accuracy: 0.5616 - val_loss: 0.9505\n",
            "Epoch 5/10\n",
            "\u001b[1m32/32\u001b[0m \u001b[32m━━━━━━━━━━━━━━━━━━━━\u001b[0m\u001b[37m\u001b[0m \u001b[1m0s\u001b[0m 9ms/step - accuracy: 0.7428 - loss: 0.6302 - val_accuracy: 0.5448 - val_loss: 1.0059\n",
            "Epoch 6/10\n",
            "\u001b[1m32/32\u001b[0m \u001b[32m━━━━━━━━━━━━━━━━━━━━\u001b[0m\u001b[37m\u001b[0m \u001b[1m1s\u001b[0m 7ms/step - accuracy: 0.7690 - loss: 0.5810 - val_accuracy: 0.5377 - val_loss: 1.0516\n",
            "Epoch 7/10\n",
            "\u001b[1m32/32\u001b[0m \u001b[32m━━━━━━━━━━━━━━━━━━━━\u001b[0m\u001b[37m\u001b[0m \u001b[1m0s\u001b[0m 8ms/step - accuracy: 0.7835 - loss: 0.5471 - val_accuracy: 0.5244 - val_loss: 1.1305\n",
            "\u001b[1m77/77\u001b[0m \u001b[32m━━━━━━━━━━━━━━━━━━━━\u001b[0m\u001b[37m\u001b[0m \u001b[1m0s\u001b[0m 2ms/step - accuracy: 0.5698 - loss: 0.8905\n",
            "Test results - Loss: 0.8831369876861572 - Accuracy: 0.5788187384605408%\n",
            "\u001b[1m77/77\u001b[0m \u001b[32m━━━━━━━━━━━━━━━━━━━━\u001b[0m\u001b[37m\u001b[0m \u001b[1m0s\u001b[0m 2ms/step\n",
            "MLP Accuracy: 59.57637429237366 %\n",
            "MLP F1 Score: 0.5983946905742725\n"
          ]
        }
      ]
    },
    {
      "cell_type": "markdown",
      "source": [
        "## k-Nearest Neighbour"
      ],
      "metadata": {
        "id": "er51nR02sdL_"
      }
    },
    {
      "cell_type": "markdown",
      "source": [
        "k-Nearest Neighbour (kNN) is a simple machine learning algorithm which has use in both classification and regression problems. The premise of kNN is to use the training set to find the nearest neighbour(s) to the the new value based on a chosen distance metric and use them to predict a value.\n",
        "\n",
        "The value 'k' is used to represent the number of neighbours which the algorithm will take into account when predicting the new value. Choosing a useful 'k' value is vital in kNN, as setting it too low can leave the value sensitive to noise, while setting it too high can leave the class boundaries less distinct.\n",
        "\n",
        "In classification, the new value is assigned a label by a majority vote from the number of neighbours in consideration, while in regression the label is assigned by taking a mean value of the labels of its nearest neighbours."
      ],
      "metadata": {
        "id": "DboDabkjojye"
      }
    },
    {
      "cell_type": "code",
      "source": [
        "from sklearn.metrics import accuracy_score\n",
        "from sklearn.neighbors import KNeighborsClassifier\n",
        "\n",
        "knn_accuracy_score = []\n",
        "knn_f1_score = []\n",
        "\n",
        "for train, test in kf.split(xnp,ynp):\n",
        "\n",
        "  x_train, x_test, y_train, y_test = xnp[train], xnp[test], ynp[train], ynp[test]\n",
        "\n",
        "  x_train = prep(x_train)\n",
        "  x_test = prep(x_test)\n",
        "\n",
        "  tfidf = tfidf_base\n",
        "  x_train = tfidf.fit_transform(x_train)\n",
        "  x_train = np.asarray(x_train.todense())\n",
        "  x_test = tfidf.transform(x_test)\n",
        "  x_test = np.asarray(x_test.todense())\n",
        "\n",
        "  # Set the grid search parameters to check for the best number of neighbours\n",
        "  param_grid = {\n",
        "        'n_neighbors': [1, 3, 5, 7]\n",
        "    }\n",
        "\n",
        "  # Run the grid search\n",
        "  grid_search = GridSearchCV(KNeighborsClassifier(), param_grid, cv=3, scoring='accuracy')\n",
        "  grid_search.fit(x_train, y_train)\n",
        "\n",
        "  best_kNN = grid_search.best_estimator_\n",
        "\n",
        "  knn_predictions = best_kNN.predict(x_test)\n",
        "  knn_acc = accuracy_score(knn_predictions, y_test)\n",
        "  knn_accuracy_score.append(knn_acc)\n",
        "\n",
        "  knn_f1 = f1_score(knn_predictions, y_test, average='weighted')\n",
        "  knn_f1_score.append(knn_f1)\n",
        "\n",
        "print(\"kNN Accuracy:\", np.mean(knn_accuracy_score) * 100, \"%\")\n",
        "print(\"kNN F1 Score:\", np.mean(knn_f1_score))"
      ],
      "metadata": {
        "colab": {
          "base_uri": "https://localhost:8080/"
        },
        "id": "Q4I-P5ORsld7",
        "outputId": "6d9a0f72-3c9e-4e98-b11d-d6386a5a0681"
      },
      "execution_count": 19,
      "outputs": [
        {
          "output_type": "stream",
          "name": "stdout",
          "text": [
            "kNN Accuracy: 48.31771894093686 %\n",
            "kNN F1 Score: 0.5188001658982093\n"
          ]
        }
      ]
    },
    {
      "cell_type": "markdown",
      "source": [
        "## Naive Bayes"
      ],
      "metadata": {
        "id": "pJKPBNih7xkD"
      }
    },
    {
      "cell_type": "markdown",
      "source": [
        "https://scikit-learn.org/1.5/modules/naive_bayes.html\n",
        "\n",
        "Naive Bayes methods are supervised machine learning algorithms based on applying Bayes' theorem under the assumption that every pair of features given the class variables value has conditional independance.\n",
        "\n",
        "While Naive Bayes is generally regarded as being a good algorithm for classification, it is also known to be bad at estimation. As well as this, the assumption of conditional independance, while overall well performing, is not always the case which can lead to incorrect classification."
      ],
      "metadata": {
        "id": "A1h_ydW-okh9"
      }
    },
    {
      "cell_type": "code",
      "source": [
        "# Code taken and adapted from https://medium.com/@bedigunjit/simple-guide-to-text-classification-nlp-using-svm-and-naive-bayes-with-python-421db3a72d34\n",
        "\n",
        "from sklearn import naive_bayes\n",
        "\n",
        "nb_accuracy_scores = []\n",
        "nb_f1_scores = []\n",
        "\n",
        "Encoder = LabelEncoder()\n",
        "ynp_encoded = Encoder.fit_transform(ynp)  # Encoding target labels\n",
        "\n",
        "for train_idx, test_idx in kf.split(xnp, ynp_encoded):\n",
        "    x_train, x_test = np.array(tweets)[train_idx], np.array(tweets)[test_idx]\n",
        "    y_train, y_test = ynp_encoded[train_idx], ynp_encoded[test_idx]\n",
        "\n",
        "    x_train = prep(x_train)\n",
        "    x_test = prep(x_test)\n",
        "\n",
        "    tfidf = tfidf_base\n",
        "    x_train = tfidf.fit_transform(x_train)\n",
        "    x_train = np.asarray(x_train.todense())\n",
        "    x_test = tfidf.transform(x_test)\n",
        "    x_test = np.asarray(x_test.todense())\n",
        "\n",
        "    naive = naive_bayes.MultinomialNB()\n",
        "    naive.fit(x_train, y_train)\n",
        "\n",
        "    nb_predictions = naive.predict(x_test)\n",
        "\n",
        "    accuracy = accuracy_score(y_test, nb_predictions)\n",
        "    nb_accuracy_scores.append(accuracy)\n",
        "\n",
        "    nb_f1 = f1_score(y_test, nb_predictions, average='weighted')\n",
        "    nb_f1_scores.append(nb_f1)\n",
        "\n",
        "print(f\"Naive Bayes Accuracy:\", np.mean(nb_accuracy_scores) * 100, \"%\")\n",
        "print(f\"Naive Bayes F1 Score:\", np.mean(nb_f1_scores))"
      ],
      "metadata": {
        "colab": {
          "base_uri": "https://localhost:8080/"
        },
        "id": "_Dv1qzHp72_O",
        "outputId": "5f6b0a17-8407-49a7-a853-1ad94fce98d1"
      },
      "execution_count": 20,
      "outputs": [
        {
          "output_type": "stream",
          "name": "stdout",
          "text": [
            "Naive Bayes Accuracy: 59.926680244399186 %\n",
            "Naive Bayes F1 Score: 0.5965460695643054\n"
          ]
        }
      ]
    },
    {
      "cell_type": "markdown",
      "source": [
        "# Section 4 - Evaluation"
      ],
      "metadata": {
        "id": "DfqtLga5BR47"
      }
    },
    {
      "cell_type": "markdown",
      "source": [
        "In terms of accuracy, both the MLP and Naive Bayes models performed relatively well, recording accuracies of around 60%. The kNN model on the other hand was far lower at around 50%, even despite it using a grid search to determine the optimal number of neighbours to consider. This is likely a result of how kNN chooses its classifications alongside the pre-processing performed. As kNN operates by choosing from the values nearest neighbours, it is possible that the pre-processing has allowed certain words to be considered which negatively influence the kNN models decision making."
      ],
      "metadata": {
        "id": "1C8I8lH0XaxP"
      }
    },
    {
      "cell_type": "code",
      "source": [
        "import matplotlib as plt\n",
        "\n",
        "model_accuracy_comp = []\n",
        "model_accuracy_comp.append(mlp_accuracy_score)\n",
        "model_accuracy_comp.append(knn_accuracy_score)\n",
        "model_accuracy_comp.append(nb_accuracy_scores)\n",
        "\n",
        "fig, ax2 = plt.pyplot.subplots()\n",
        "ax2.set_title('Algorithm Accuracy Performance')\n",
        "ax2.boxplot(model_accuracy_comp)\n",
        "ax2.set_xticklabels(['mlp', 'knn', 'nb'])"
      ],
      "metadata": {
        "colab": {
          "base_uri": "https://localhost:8080/",
          "height": 469
        },
        "id": "e7hqZi0rXcMO",
        "outputId": "d8d4b87d-b370-469e-a474-96f151ab1b45"
      },
      "execution_count": 21,
      "outputs": [
        {
          "output_type": "execute_result",
          "data": {
            "text/plain": [
              "[Text(1, 0, 'mlp'), Text(2, 0, 'knn'), Text(3, 0, 'nb')]"
            ]
          },
          "metadata": {},
          "execution_count": 21
        },
        {
          "output_type": "display_data",
          "data": {
            "text/plain": [
              "<Figure size 640x480 with 1 Axes>"
            ],
            "image/png": "[encoded data removed]"
          },
          "metadata": {}
        }
      ]
    },
    {
      "cell_type": "markdown",
      "source": [
        "When it comes to the F1 scores of each of the algorithms, the results are practically identical for each of the algorithms. Both the MLP and Naive Bayes models produced an F1 score of about 0.6 with kNN far behind in the 0.45-0.5 range. With the F1 scores for each model being practically identical to their accuracies, this suggests that throughout all 3 models the number of false positive and false negative predictions was practically negligible."
      ],
      "metadata": {
        "id": "tQI50IVIHlv-"
      }
    },
    {
      "cell_type": "code",
      "source": [
        "import matplotlib as plt\n",
        "\n",
        "model_f1_comp = []\n",
        "model_f1_comp.append(mlp_f1_score)\n",
        "model_f1_comp.append(knn_f1_score)\n",
        "model_f1_comp.append(nb_f1_scores)\n",
        "\n",
        "fig, ax2 = plt.pyplot.subplots()\n",
        "ax2.set_title('Algorithm F1 Score Performance')\n",
        "ax2.boxplot(model_f1_comp)\n",
        "ax2.set_xticklabels(['mlp', 'knn', 'nb'])"
      ],
      "metadata": {
        "colab": {
          "base_uri": "https://localhost:8080/",
          "height": 469
        },
        "id": "3jHd4uKoalyc",
        "outputId": "208e05a9-16a2-4701-987b-e227b2b91e78"
      },
      "execution_count": 22,
      "outputs": [
        {
          "output_type": "execute_result",
          "data": {
            "text/plain": [
              "[Text(1, 0, 'mlp'), Text(2, 0, 'knn'), Text(3, 0, 'nb')]"
            ]
          },
          "metadata": {},
          "execution_count": 22
        },
        {
          "output_type": "display_data",
          "data": {
            "text/plain": [
              "<Figure size 640x480 with 1 Axes>"
            ],
            "image/png": "[encoded data removed]"
          },
          "metadata": {}
        }
      ]
    },
    {
      "cell_type": "markdown",
      "source": [
        "# Section 5 - Paper Overview"
      ],
      "metadata": {
        "id": "9-WoNFmsBUsg"
      }
    },
    {
      "cell_type": "markdown",
      "source": [
        "https://www.researchgate.net/publication/352780855_Twitter_Sentiment_Analysis_using_Deep_Learning\n",
        "\n",
        "The chosen paper aims to explore the effectiveness of different machine learning algorithms in correctly predicting the sentiment classification of a dataset of tweets. The classification is treated as a binary classification problem with the only available sentiment labels being 'Positive' and 'Negative.\n",
        "\n",
        "The paper employs a number of pre-processing techniques specific to the problem of analysing tweets, such as replacing hashtagged words with just the text of the hashtag and shortening words where the same letter appears more than twice in sequence. <br>\n",
        "The paper then trains 10 different models commonly used for text classification, with particular focus on the implementation of multiple configurations of both Convolutional Neural Networks (CNN) and Recurrent Neural Networks (RNN).\n",
        "\n",
        "Once each model had been trained, an ensemble model was created using some of the best performing models. The ensemble model took a majority vote of predictions from 5 models chosen from the most succesful configurations of the CNN and RNN models trained."
      ],
      "metadata": {
        "id": "ZJ8Wqzh3Mf85"
      }
    },
    {
      "cell_type": "markdown",
      "source": [
        "# Section 6 - Paper Algorithms"
      ],
      "metadata": {
        "id": "vYCgfIFWBXVu"
      }
    },
    {
      "cell_type": "code",
      "source": [
        "import numpy as np\n",
        "import tensorflow as tf\n",
        "from tensorflow.keras.models import Sequential\n",
        "from tensorflow.keras.layers import Embedding, LSTM, Dense, Dropout\n",
        "from tensorflow.keras.optimizers import Adam, SGD\n",
        "from tensorflow.keras.losses import BinaryCrossentropy\n",
        "from tensorflow.keras.preprocessing.text import Tokenizer"
      ],
      "metadata": {
        "id": "CQgnhlC6LSCc"
      },
      "execution_count": 23,
      "outputs": []
    },
    {
      "cell_type": "code",
      "source": [
        "# Define the variables for the two models\n",
        "vocab_size = 20000\n",
        "random_embedding_dimension = 32\n",
        "glove_embedding_dimension = 200\n",
        "max_length = 40\n",
        "lstm_units_random = 100\n",
        "lstm_units_glove = 128\n",
        "dense_units_random = 32\n",
        "dense_units_glove = 64"
      ],
      "metadata": {
        "id": "uYgK5TC2BduQ"
      },
      "execution_count": 24,
      "outputs": []
    },
    {
      "cell_type": "code",
      "source": [
        "# The paper only considers positive and negative sentiments for the algorithm\n",
        "# Because of this we filter the dataset to only include these rows for use in the models\n",
        "binary_sentiment_df = filtered_sentiment_df.drop(filtered_sentiment_df[filtered_sentiment_df['sentiment'] == 'Neutral'].index)\n",
        "\n",
        "binary_tweets = list(binary_sentiment_df['tweet_text'])\n",
        "# Pre-process the tweets\n",
        "binary_tweets = prep(binary_tweets)\n",
        "binary_sentiments = list(binary_sentiment_df['sentiment'])\n",
        "\n",
        "# Convert the sentiments to numerical values\n",
        "label_encoder = LabelEncoder()\n",
        "binary_sentiments_numerical = label_encoder.fit_transform(binary_sentiments)"
      ],
      "metadata": {
        "id": "d0LJUaBQpGX9"
      },
      "execution_count": 25,
      "outputs": []
    },
    {
      "cell_type": "code",
      "source": [
        "from tensorflow.keras.preprocessing.sequence import pad_sequences\n",
        "\n",
        "tokenizer = Tokenizer(num_words=vocab_size, oov_token=\"<OOV>\")\n",
        "tokenizer.fit_on_texts(binary_tweets)\n",
        "\n",
        "# Convert the tweets into sequneces and pad them to fit the max length of 40\n",
        "sequences = tokenizer.texts_to_sequences(binary_tweets)\n",
        "padded_sequences = pad_sequences(sequences, maxlen=max_length, padding='post', truncating='post')\n",
        "\n",
        "binary_xnp = np.array(padded_sequences)\n",
        "binary_ynp = np.array(binary_sentiments_numerical)"
      ],
      "metadata": {
        "id": "ZFmBmnqwkm8u"
      },
      "execution_count": 26,
      "outputs": []
    },
    {
      "cell_type": "code",
      "source": [
        "# Code taken and adapted from:\n",
        "# https://stackoverflow.com/questions/35089956/how-to-use-the-embedding-layer-for-recurrent-neural-network-rnn-in-keras\n",
        "# https://keras.io/api/layers/core_layers/embedding/\n",
        "# https://keras.io/api/layers/regularization_layers/dropout/\n",
        "# https://keras.io/api/layers/recurrent_layers/lstm/\n",
        "\n",
        "# Add the layers to the random embedding model\n",
        "random_embedding_model = Sequential()\n",
        "random_embedding_model.add(Embedding(input_dim=vocab_size, output_dim=random_embedding_dimension, input_length=max_length))\n",
        "random_embedding_model.add(Dropout(0.2))\n",
        "random_embedding_model.add(LSTM(lstm_units_random))\n",
        "random_embedding_model.add(Dense(dense_units_random, activation='relu'))\n",
        "random_embedding_model.add(Dropout(0.2))\n",
        "random_embedding_model.add(Dense(1, activation='sigmoid'))"
      ],
      "metadata": {
        "colab": {
          "base_uri": "https://localhost:8080/"
        },
        "id": "1ybbToAKLH6D",
        "outputId": "67c9cc48-4d8f-4250-c80d-ca0b9256ab3c"
      },
      "execution_count": 27,
      "outputs": [
        {
          "output_type": "stream",
          "name": "stderr",
          "text": [
            "/usr/local/lib/python3.10/dist-packages/keras/src/layers/core/embedding.py:90: UserWarning: Argument `input_length` is deprecated. Just remove it.\n",
            "  warnings.warn(\n"
          ]
        }
      ]
    },
    {
      "cell_type": "code",
      "source": [
        "from sklearn.model_selection import train_test_split\n",
        "\n",
        "x_train, x_test, y_train, y_test = train_test_split(binary_xnp, binary_ynp, test_size=0.2, random_state=42)\n",
        "\n",
        "random_embedding_model.compile(optimizer='adam', loss='binary_crossentropy', metrics=['accuracy'])\n",
        "\n",
        "# Paper makes no mention of how many epochs were run\n",
        "# Through testing it was found the first epoch recorded the highets accuracy with a large drop off before recovering to a value lower than the first\n",
        "history = random_embedding_model.fit(x_train, y_train, epochs=1, batch_size=32, validation_split=0.2)\n",
        "\n",
        "random_loss, random_accuracy = random_embedding_model.evaluate(x_test, y_test)\n",
        "print(f\"Random Embedding Model Loss: {random_loss}\")\n",
        "print(f\"Random Embedding Model Accuracy: {random_accuracy}\")"
      ],
      "metadata": {
        "colab": {
          "base_uri": "https://localhost:8080/"
        },
        "id": "-wY2St-KML7f",
        "outputId": "20678d66-842a-484b-c205-5f2317b83252"
      },
      "execution_count": 28,
      "outputs": [
        {
          "output_type": "stream",
          "name": "stdout",
          "text": [
            "\u001b[1m143/143\u001b[0m \u001b[32m━━━━━━━━━━━━━━━━━━━━\u001b[0m\u001b[37m\u001b[0m \u001b[1m8s\u001b[0m 37ms/step - accuracy: 0.4904 - loss: 0.6938 - val_accuracy: 0.5411 - val_loss: 0.6922\n",
            "\u001b[1m45/45\u001b[0m \u001b[32m━━━━━━━━━━━━━━━━━━━━\u001b[0m\u001b[37m\u001b[0m \u001b[1m1s\u001b[0m 14ms/step - accuracy: 0.4989 - loss: 0.6933\n",
            "Random Embedding Model Loss: 0.6927711963653564\n",
            "Random Embedding Model Accuracy: 0.5174825191497803\n"
          ]
        }
      ]
    },
    {
      "cell_type": "code",
      "source": [
        "# Download GloVe embeddings from stanford\n",
        "!wget http://nlp.stanford.edu/data/glove.6B.zip\n",
        "!unzip glove.6B.zip -d /content/glove_data\n",
        "\n",
        "# Set the path to the GloVe file to be used\n",
        "glove_file_path = '/content/glove_data/glove.6B.200d.txt'"
      ],
      "metadata": {
        "colab": {
          "base_uri": "https://localhost:8080/"
        },
        "id": "yNvzJx79WQr7",
        "outputId": "7f19a5e6-45f3-4f15-d217-33efbe71108d"
      },
      "execution_count": 29,
      "outputs": [
        {
          "output_type": "stream",
          "name": "stdout",
          "text": [
            "--2024-12-04 22:57:05--  http://nlp.stanford.edu/data/glove.6B.zip\n",
            "Resolving nlp.stanford.edu (nlp.stanford.edu)... 171.64.67.140\n",
            "Connecting to nlp.stanford.edu (nlp.stanford.edu)|171.64.67.140|:80... connected.\n",
            "HTTP request sent, awaiting response... 302 Found\n",
            "Location: https://nlp.stanford.edu/data/glove.6B.zip [following]\n",
            "--2024-12-04 22:57:05--  https://nlp.stanford.edu/data/glove.6B.zip\n",
            "Connecting to nlp.stanford.edu (nlp.stanford.edu)|171.64.67.140|:443... connected.\n",
            "HTTP request sent, awaiting response... 301 Moved Permanently\n",
            "Location: https://downloads.cs.stanford.edu/nlp/data/glove.6B.zip [following]\n",
            "--2024-12-04 22:57:05--  https://downloads.cs.stanford.edu/nlp/data/glove.6B.zip\n",
            "Resolving downloads.cs.stanford.edu (downloads.cs.stanford.edu)... 171.64.64.22\n",
            "Connecting to downloads.cs.stanford.edu (downloads.cs.stanford.edu)|171.64.64.22|:443... connected.\n",
            "HTTP request sent, awaiting response... 200 OK\n",
            "Length: 862182613 (822M) [application/zip]\n",
            "Saving to: ‘glove.6B.zip’\n",
            "\n",
            "glove.6B.zip        100%[===================>] 822.24M  4.95MB/s    in 4m 29s  \n",
            "\n",
            "2024-12-04 23:01:35 (3.05 MB/s) - ‘glove.6B.zip’ saved [862182613/862182613]\n",
            "\n",
            "Archive:  glove.6B.zip\n",
            "  inflating: /content/glove_data/glove.6B.50d.txt  \n",
            "  inflating: /content/glove_data/glove.6B.100d.txt  \n",
            "  inflating: /content/glove_data/glove.6B.200d.txt  \n",
            "  inflating: /content/glove_data/glove.6B.300d.txt  \n"
          ]
        }
      ]
    },
    {
      "cell_type": "code",
      "source": [
        "# Code taken and adapted from https://medium.com/analytics-vidhya/basics-of-using-pre-trained-glove-vectors-in-python-d38905f356db\n",
        "\n",
        "glove_embeddings_index = {}\n",
        "\n",
        "# Create the GloVe matrix from the txt file\n",
        "with open(glove_file_path, 'r', encoding='utf-8') as f:\n",
        "  for line in f:\n",
        "            values = line.split()\n",
        "            word = values[0]\n",
        "            vector = np.asarray(values[1:], dtype='float32')\n",
        "            glove_embeddings_index[word] = vector\n",
        "\n",
        "glove_matrix = np.zeros((vocab_size, glove_embedding_dimension))\n",
        "for word, index in tokenizer.word_index.items():\n",
        "    if index < vocab_size:\n",
        "        embedding_vector = glove_embeddings_index.get(word)\n",
        "        if embedding_vector is not None:\n",
        "            glove_matrix[index] = embedding_vector\n",
        "\n",
        "# Add the layers to the GloVe embedding model\n",
        "glove_embedding_model = Sequential()\n",
        "glove_embedding_model.add(Embedding(input_dim=vocab_size, output_dim=glove_embedding_dimension, input_length=max_length, weights=[glove_matrix], trainable=True))\n",
        "glove_embedding_model.add(Dropout(0.4))\n",
        "glove_embedding_model.add(LSTM(lstm_units_glove))\n",
        "glove_embedding_model.add(Dense(dense_units_glove, activation='relu'))\n",
        "glove_embedding_model.add(Dropout(0.5))\n",
        "glove_embedding_model.add(Dense(1, activation='sigmoid'))"
      ],
      "metadata": {
        "id": "nDAGoDXQL1Uh"
      },
      "execution_count": 30,
      "outputs": []
    },
    {
      "cell_type": "code",
      "source": [
        "x_train, x_test, y_train, y_test = train_test_split(binary_xnp, binary_ynp, test_size=0.2, random_state=42)\n",
        "\n",
        "glove_embedding_model.compile(optimizer='adam', loss='binary_crossentropy', metrics=['accuracy'])\n",
        "\n",
        "# Paper makes no mention of how many epochs were run\n",
        "# Through testing it was found the highest accuracy came on the first epoch with a large drop off until epoch 6 which would significantly lower the average\n",
        "history = glove_embedding_model.fit(x_train, y_train, epochs=1, batch_size=32, validation_split=0.2)\n",
        "\n",
        "glove_loss, glove_accuracy = glove_embedding_model.evaluate(x_test, y_test)\n",
        "print(f\"GloVe Embedding Model Loss: {glove_loss}\")\n",
        "print(f\"GloVe Embedding Model Accuracy: {glove_accuracy}\")"
      ],
      "metadata": {
        "colab": {
          "base_uri": "https://localhost:8080/"
        },
        "id": "uZn2_dXtTi-k",
        "outputId": "4f3a2ef0-a46f-4915-93ef-13ea6210e0d1"
      },
      "execution_count": 31,
      "outputs": [
        {
          "output_type": "stream",
          "name": "stdout",
          "text": [
            "\u001b[1m143/143\u001b[0m \u001b[32m━━━━━━━━━━━━━━━━━━━━\u001b[0m\u001b[37m\u001b[0m \u001b[1m25s\u001b[0m 159ms/step - accuracy: 0.5940 - loss: 0.6572 - val_accuracy: 0.7823 - val_loss: 0.5461\n",
            "\u001b[1m45/45\u001b[0m \u001b[32m━━━━━━━━━━━━━━━━━━━━\u001b[0m\u001b[37m\u001b[0m \u001b[1m1s\u001b[0m 28ms/step - accuracy: 0.8065 - loss: 0.4922\n",
            "GloVe Embedding Model Loss: 0.5023047924041748\n",
            "GloVe Embedding Model Accuracy: 0.800000011920929\n"
          ]
        }
      ]
    },
    {
      "cell_type": "markdown",
      "source": [
        "# Section 7 - Paper Evaluation"
      ],
      "metadata": {
        "id": "wMW5xGIiBa7-"
      }
    },
    {
      "cell_type": "markdown",
      "source": [
        "The performance metric used in the paper is the accuracy of the models. In general the results of my implementation follow the same trend as the paper with the Glove Embedding Model performing better thena the Random Embedding Model. However, where the results differ is in the accuracy produced by the Random Embedding Model.\n",
        "\n",
        "My implementation came out with an accuracy of around 60%, leaving it over 20% lower than the best implementation in the paper of 82.2%. As the layers used line up with how the model is described in the paper, I would theorize that this discrepancy is as a result of the pre-processing and feature extraction methods used in the paper, which go far more in depth with the pre-processing being tailored to the fact that the dataset contains tweets, and the feature extraction using both bigrams and unigrams and choosing the vector representation based on which one is used.\n",
        "\n",
        "The gap between my implementation of the Glove Embedding Model and the papers is significantly smaller. My implementation produced an accuracy of around 76%, less than 10% lower than the papers model which scored 83% with its best configuration. This improvement is likely due to the use of the pre-trained word vectors provided by the glove file, with the slight gap still being present due to the more in depth pre-processing."
      ],
      "metadata": {
        "id": "d1rGYaUj11u3"
      }
    },
    {
      "cell_type": "code",
      "source": [
        "import matplotlib.patches as mpatches\n",
        "\n",
        "# Best results from the paper for the Random and GloVe Embedding Models\n",
        "paper_random_accuracy = 82.2\n",
        "paper_glove_accuracy = 83.0\n",
        "\n",
        "model_comp = []\n",
        "model_comp.append(random_accuracy * 100)\n",
        "model_comp.append(paper_random_accuracy)\n",
        "model_comp.append(glove_accuracy * 100)\n",
        "model_comp.append(paper_glove_accuracy)\n",
        "\n",
        "fig, ax2 = plt.pyplot.subplots()\n",
        "\n",
        "ax2.set_title('Implementation vs Paper Accuracy')\n",
        "x_positions = range(len(model_comp))\n",
        "ax2.bar(x_positions, model_comp, color=['blue', 'red', 'blue', 'red'])\n",
        "ax2.set_xticks([0.5, 2.5])\n",
        "ax2.set_xticklabels(['Random Embedding', 'GloVe Embedding'], rotation='vertical')\n",
        "\n",
        "y_ticks = np.arange(0, 100, 5)\n",
        "ax2.set_yticks(y_ticks)\n",
        "\n",
        "blue_patch = mpatches.Patch(color='blue', label='Implementation')\n",
        "red_patch = mpatches.Patch(color='red', label='Paper')\n",
        "\n",
        "ax2.legend(handles=[blue_patch, red_patch], loc=\"best\", fontsize=8, markerscale=0.8)\n"
      ],
      "metadata": {
        "id": "8Ws00iF1BdF9",
        "colab": {
          "base_uri": "https://localhost:8080/",
          "height": 596
        },
        "outputId": "c04c356b-2e08-4b5b-a2c2-0457d9e81357"
      },
      "execution_count": 32,
      "outputs": [
        {
          "output_type": "execute_result",
          "data": {
            "text/plain": [
              "<matplotlib.legend.Legend at 0x79248ff94a00>"
            ]
          },
          "metadata": {},
          "execution_count": 32
        },
        {
          "output_type": "display_data",
          "data": {
            "text/plain": [
              "<Figure size 640x480 with 1 Axes>"
            ],
            "image/png": "[encoded data removed]"
          },
          "metadata": {}
        }
      ]
    }
  ]
}